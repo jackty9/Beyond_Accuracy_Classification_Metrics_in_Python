{
  "nbformat": 4,
  "nbformat_minor": 0,
  "metadata": {
    "colab": {
      "name": "Medium_beyond_accuracy.ipynb",
      "provenance": [],
      "authorship_tag": "ABX9TyOWb/MWukXtjRKKg6iWFJFK",
      "include_colab_link": true
    },
    "kernelspec": {
      "name": "python3",
      "display_name": "Python 3"
    }
  },
  "cells": [
    {
      "cell_type": "markdown",
      "metadata": {
        "id": "view-in-github",
        "colab_type": "text"
      },
      "source": [
        "<a href=\"https://colab.research.google.com/github/jackty9/Beyond_Accuracy_Classification_Metrics_in_Python/blob/main/Medium_beyond_accuracy.ipynb\" target=\"_parent\"><img src=\"https://colab.research.google.com/assets/colab-badge.svg\" alt=\"Open In Colab\"/></a>"
      ]
    },
    {
      "cell_type": "markdown",
      "metadata": {
        "id": "muhNNMIz4Ynv"
      },
      "source": [
        "# Create classification data"
      ]
    },
    {
      "cell_type": "code",
      "metadata": {
        "id": "1ERYoFCY4X_D",
        "colab": {
          "base_uri": "https://localhost:8080/"
        },
        "outputId": "f73318b1-d4c2-4fb9-aae9-5ddab6fc0afb"
      },
      "source": [
        "# import libraries\n",
        "from collections import Counter\n",
        "from sklearn.datasets import make_classification\n",
        "from imblearn.under_sampling import NearMiss\n",
        "from matplotlib import pyplot\n",
        "from numpy import where\n",
        "# create dataset - imbalanced in the ratio of 90:10\n",
        "X, y = make_classification(n_samples=1000, n_features=20, n_redundant=1,\n",
        "\tn_clusters_per_class=1, weights=[0.9], flip_y=0.3, random_state=1)\n",
        "counter = Counter(y)\n",
        "print(counter)"
      ],
      "execution_count": 8,
      "outputs": [
        {
          "output_type": "stream",
          "text": [
            "Counter({0: 785, 1: 215})\n"
          ],
          "name": "stdout"
        }
      ]
    },
    {
      "cell_type": "code",
      "metadata": {
        "id": "mjeho05JmS3D"
      },
      "source": [
        "#Import Train-test split library\n",
        "from sklearn.model_selection import train_test_split\n",
        "\n",
        "#Train-test split the data \n",
        "X_train, X_test, y_train, y_test=train_test_split(X,y,test_size=0.30)"
      ],
      "execution_count": 9,
      "outputs": []
    },
    {
      "cell_type": "markdown",
      "metadata": {
        "id": "O8fkNKCVlkEx"
      },
      "source": [
        "# Random forest"
      ]
    },
    {
      "cell_type": "code",
      "metadata": {
        "colab": {
          "base_uri": "https://localhost:8080/"
        },
        "id": "WjTCM4aQlkEx",
        "outputId": "0a9be61c-7f56-4c42-a359-006a40e1a76b"
      },
      "source": [
        "#Import Random Forest libraries\n",
        "from sklearn.ensemble import RandomForestClassifier\n",
        "from sklearn import metrics\n",
        "\n",
        "#Create a RF classifider\n",
        "clf=RandomForestClassifier(n_estimators=100)\n",
        "\n",
        "#Train the model using the training sets y_pred=clf.predict(X_test)\n",
        "clf.fit(X_train, y_train)\n",
        "\n",
        "# Model Accuracy, how often is the classifier correct?\n",
        "print(\"Accuracy on test set:\",clf.score(X_test, y_test))"
      ],
      "execution_count": 10,
      "outputs": [
        {
          "output_type": "stream",
          "text": [
            "Accuracy on test set: 0.83\n"
          ],
          "name": "stdout"
        }
      ]
    },
    {
      "cell_type": "markdown",
      "metadata": {
        "id": "6q5Y8cC3mpp8"
      },
      "source": [
        "# Model Evaluation with Confusion Matrix and Classification Report"
      ]
    },
    {
      "cell_type": "code",
      "metadata": {
        "colab": {
          "base_uri": "https://localhost:8080/",
          "height": 438
        },
        "id": "jW8P51FpmrT2",
        "outputId": "674127b1-d2f9-4185-a741-77abf920b925"
      },
      "source": [
        "# Importing the classification report, confusion matrix, and plotting libraries\n",
        "from sklearn.metrics import accuracy_score, classification_report, confusion_matrix \n",
        "import pandas as pd\n",
        "import matplotlib.pyplot as plt\n",
        "import seaborn as sns\n",
        "\n",
        "#prediction on test data\n",
        "pred=clf.predict(X_test)\n",
        "\n",
        "#plot confusion matrix\n",
        "results = {'y_Actual':y_test, 'y_Predicted':pred}\n",
        "df_results = pd.DataFrame(results, columns=['y_Actual','y_Predicted'])\n",
        "confusion_matrix = pd.crosstab(df_results['y_Actual'], df_results['y_Predicted'], rownames=['Actual'], colnames=['Predicted'])\n",
        "sns.heatmap(confusion_matrix, annot=True, fmt='d')\n",
        "plt.show()\n",
        "\n",
        "#print classification report\n",
        "print(classification_report(y_test, pred))"
      ],
      "execution_count": 11,
      "outputs": [
        {
          "output_type": "display_data",
          "data": {
            "image/png": "[encoded data removed]",
            "text/plain": [
              "<Figure size 432x288 with 2 Axes>"
            ]
          },
          "metadata": {
            "tags": [],
            "needs_background": "light"
          }
        },
        {
          "output_type": "stream",
          "text": [
            "              precision    recall  f1-score   support\n",
            "\n",
            "           0       0.84      0.97      0.90       238\n",
            "           1       0.72      0.29      0.41        62\n",
            "\n",
            "    accuracy                           0.83       300\n",
            "   macro avg       0.78      0.63      0.66       300\n",
            "weighted avg       0.82      0.83      0.80       300\n",
            "\n"
          ],
          "name": "stdout"
        }
      ]
    }
  ]
}